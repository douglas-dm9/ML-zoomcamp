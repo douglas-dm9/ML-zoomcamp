{
 "cells": [
  {
   "cell_type": "markdown",
   "metadata": {
    "id": "9ORi2cmESeK5"
   },
   "source": [
    "Import and installing all necessary libraries"
   ]
  },
  {
   "cell_type": "code",
   "execution_count": 1,
   "metadata": {
    "colab": {
     "base_uri": "https://localhost:8080/"
    },
    "id": "pk3i0CZOaeto",
    "outputId": "450bfbfe-b504-4485-b484-8eadba425a6c"
   },
   "outputs": [
    {
     "name": "stderr",
     "output_type": "stream",
     "text": [
      "[nltk_data] Downloading package stopwords to\n",
      "[nltk_data]     C:\\Users\\douglas.melo\\AppData\\Roaming\\nltk_data...\n",
      "[nltk_data]   Package stopwords is already up-to-date!\n",
      "[nltk_data] Downloading package punkt to\n",
      "[nltk_data]     C:\\Users\\douglas.melo\\AppData\\Roaming\\nltk_data...\n",
      "[nltk_data]   Package punkt is already up-to-date!\n"
     ]
    }
   ],
   "source": [
    "import pandas as pd\n",
    "from sklearn.model_selection import train_test_split\n",
    "from sklearn.feature_extraction.text import CountVectorizer, TfidfVectorizer\n",
    "from sklearn.linear_model import LogisticRegression\n",
    "import nltk\n",
    "from nltk import word_tokenize\n",
    "from nltk.corpus import stopwords\n",
    "nltk.download('stopwords')\n",
    "nltk.download('punkt')\n",
    "import unidecode\n",
    "import numpy as np\n",
    "from sklearn import metrics\n",
    "import matplotlib.pyplot as plt\n",
    "import seaborn as sns\n",
    "import bentoml"
   ]
  },
  {
   "cell_type": "markdown",
   "metadata": {
    "id": "EXR465OHSmOc"
   },
   "source": [
    "Reading  the dataset "
   ]
  },
  {
   "cell_type": "code",
   "execution_count": 2,
   "metadata": {
    "colab": {
     "base_uri": "https://localhost:8080/"
    },
    "id": "UM0FvFZHazqg",
    "outputId": "78df26e3-1de1-451a-cf6c-0dbded3fdf48"
   },
   "outputs": [
    {
     "name": "stderr",
     "output_type": "stream",
     "text": [
      "c:\\users\\douglas.melo\\appdata\\local\\programs\\python\\python38\\lib\\site-packages\\IPython\\core\\interactiveshell.py:3441: DtypeWarning: Columns (2) have mixed types.Specify dtype option on import or set low_memory=False.\n",
      "  exec(code_obj, self.user_global_ns, self.user_ns)\n"
     ]
    }
   ],
   "source": [
    "df= pd.read_csv(r\"https://github.com/americanas-tech/b2w-reviews01/raw/main/B2W-Reviews01.csv\",delimiter=\",\",encoding='utf-8')"
   ]
  },
  {
   "cell_type": "code",
   "execution_count": 3,
   "metadata": {
    "colab": {
     "base_uri": "https://localhost:8080/",
     "height": 635
    },
    "id": "9Uzf8C5za1Fd",
    "outputId": "8f912a28-cb23-460f-e3f5-c01bb8779019"
   },
   "outputs": [
    {
     "data": {
      "text/html": [
       "<div>\n",
       "<style scoped>\n",
       "    .dataframe tbody tr th:only-of-type {\n",
       "        vertical-align: middle;\n",
       "    }\n",
       "\n",
       "    .dataframe tbody tr th {\n",
       "        vertical-align: top;\n",
       "    }\n",
       "\n",
       "    .dataframe thead th {\n",
       "        text-align: right;\n",
       "    }\n",
       "</style>\n",
       "<table border=\"1\" class=\"dataframe\">\n",
       "  <thead>\n",
       "    <tr style=\"text-align: right;\">\n",
       "      <th></th>\n",
       "      <th>submission_date</th>\n",
       "      <th>reviewer_id</th>\n",
       "      <th>product_id</th>\n",
       "      <th>product_name</th>\n",
       "      <th>product_brand</th>\n",
       "      <th>site_category_lv1</th>\n",
       "      <th>site_category_lv2</th>\n",
       "      <th>review_title</th>\n",
       "      <th>overall_rating</th>\n",
       "      <th>recommend_to_a_friend</th>\n",
       "      <th>review_text</th>\n",
       "      <th>reviewer_birth_year</th>\n",
       "      <th>reviewer_gender</th>\n",
       "      <th>reviewer_state</th>\n",
       "    </tr>\n",
       "  </thead>\n",
       "  <tbody>\n",
       "    <tr>\n",
       "      <th>0</th>\n",
       "      <td>2018-01-01 00:11:28</td>\n",
       "      <td>d0fb1ca69422530334178f5c8624aa7a99da47907c44de...</td>\n",
       "      <td>132532965</td>\n",
       "      <td>Notebook Asus Vivobook Max X541NA-GO472T Intel...</td>\n",
       "      <td>NaN</td>\n",
       "      <td>Informática</td>\n",
       "      <td>Notebook</td>\n",
       "      <td>Bom</td>\n",
       "      <td>4</td>\n",
       "      <td>Yes</td>\n",
       "      <td>Estou contente com a compra entrega rápida o ú...</td>\n",
       "      <td>1958.0</td>\n",
       "      <td>F</td>\n",
       "      <td>RJ</td>\n",
       "    </tr>\n",
       "    <tr>\n",
       "      <th>1</th>\n",
       "      <td>2018-01-01 00:13:48</td>\n",
       "      <td>014d6dc5a10aed1ff1e6f349fb2b059a2d3de511c7538a...</td>\n",
       "      <td>22562178</td>\n",
       "      <td>Copo Acrílico Com Canudo 500ml Rocie</td>\n",
       "      <td>NaN</td>\n",
       "      <td>Utilidades Domésticas</td>\n",
       "      <td>Copos, Taças e Canecas</td>\n",
       "      <td>Preço imbatível, ótima qualidade</td>\n",
       "      <td>4</td>\n",
       "      <td>Yes</td>\n",
       "      <td>Por apenas R$1994.20,eu consegui comprar esse ...</td>\n",
       "      <td>1996.0</td>\n",
       "      <td>M</td>\n",
       "      <td>SC</td>\n",
       "    </tr>\n",
       "    <tr>\n",
       "      <th>2</th>\n",
       "      <td>2018-01-01 00:26:02</td>\n",
       "      <td>44f2c8edd93471926fff601274b8b2b5c4824e386ae4f2...</td>\n",
       "      <td>113022329</td>\n",
       "      <td>Panela de Pressão Elétrica Philips Walita Dail...</td>\n",
       "      <td>philips walita</td>\n",
       "      <td>Eletroportáteis</td>\n",
       "      <td>Panela Elétrica</td>\n",
       "      <td>ATENDE TODAS AS EXPECTATIVA.</td>\n",
       "      <td>4</td>\n",
       "      <td>Yes</td>\n",
       "      <td>SUPERA EM AGILIDADE E PRATICIDADE OUTRAS PANEL...</td>\n",
       "      <td>1984.0</td>\n",
       "      <td>M</td>\n",
       "      <td>SP</td>\n",
       "    </tr>\n",
       "    <tr>\n",
       "      <th>3</th>\n",
       "      <td>2018-01-01 00:35:54</td>\n",
       "      <td>ce741665c1764ab2d77539e18d0e4f66dde6213c9f0863...</td>\n",
       "      <td>113851581</td>\n",
       "      <td>Betoneira Columbus - Roma Brinquedos</td>\n",
       "      <td>roma jensen</td>\n",
       "      <td>Brinquedos</td>\n",
       "      <td>Veículos de Brinquedo</td>\n",
       "      <td>presente mais que desejado</td>\n",
       "      <td>4</td>\n",
       "      <td>Yes</td>\n",
       "      <td>MEU FILHO AMOU! PARECE DE VERDADE COM TANTOS D...</td>\n",
       "      <td>1985.0</td>\n",
       "      <td>F</td>\n",
       "      <td>SP</td>\n",
       "    </tr>\n",
       "    <tr>\n",
       "      <th>4</th>\n",
       "      <td>2018-01-01 01:00:28</td>\n",
       "      <td>7d7b6b18dda804a897359276cef0ca252f9932bf4b5c8e...</td>\n",
       "      <td>131788803</td>\n",
       "      <td>Smart TV LED 43\" LG 43UJ6525 Ultra HD 4K com C...</td>\n",
       "      <td>lg</td>\n",
       "      <td>TV e Home Theater</td>\n",
       "      <td>TV</td>\n",
       "      <td>Sem duvidas, excelente</td>\n",
       "      <td>5</td>\n",
       "      <td>Yes</td>\n",
       "      <td>A entrega foi no prazo, as americanas estão de...</td>\n",
       "      <td>1994.0</td>\n",
       "      <td>M</td>\n",
       "      <td>MG</td>\n",
       "    </tr>\n",
       "  </tbody>\n",
       "</table>\n",
       "</div>"
      ],
      "text/plain": [
       "       submission_date                                        reviewer_id  \\\n",
       "0  2018-01-01 00:11:28  d0fb1ca69422530334178f5c8624aa7a99da47907c44de...   \n",
       "1  2018-01-01 00:13:48  014d6dc5a10aed1ff1e6f349fb2b059a2d3de511c7538a...   \n",
       "2  2018-01-01 00:26:02  44f2c8edd93471926fff601274b8b2b5c4824e386ae4f2...   \n",
       "3  2018-01-01 00:35:54  ce741665c1764ab2d77539e18d0e4f66dde6213c9f0863...   \n",
       "4  2018-01-01 01:00:28  7d7b6b18dda804a897359276cef0ca252f9932bf4b5c8e...   \n",
       "\n",
       "  product_id                                       product_name  \\\n",
       "0  132532965  Notebook Asus Vivobook Max X541NA-GO472T Intel...   \n",
       "1   22562178               Copo Acrílico Com Canudo 500ml Rocie   \n",
       "2  113022329  Panela de Pressão Elétrica Philips Walita Dail...   \n",
       "3  113851581               Betoneira Columbus - Roma Brinquedos   \n",
       "4  131788803  Smart TV LED 43\" LG 43UJ6525 Ultra HD 4K com C...   \n",
       "\n",
       "    product_brand      site_category_lv1       site_category_lv2  \\\n",
       "0             NaN            Informática                Notebook   \n",
       "1             NaN  Utilidades Domésticas  Copos, Taças e Canecas   \n",
       "2  philips walita        Eletroportáteis         Panela Elétrica   \n",
       "3     roma jensen             Brinquedos   Veículos de Brinquedo   \n",
       "4              lg      TV e Home Theater                      TV   \n",
       "\n",
       "                       review_title  overall_rating recommend_to_a_friend  \\\n",
       "0                               Bom               4                   Yes   \n",
       "1  Preço imbatível, ótima qualidade               4                   Yes   \n",
       "2      ATENDE TODAS AS EXPECTATIVA.               4                   Yes   \n",
       "3        presente mais que desejado               4                   Yes   \n",
       "4            Sem duvidas, excelente               5                   Yes   \n",
       "\n",
       "                                         review_text  reviewer_birth_year  \\\n",
       "0  Estou contente com a compra entrega rápida o ú...               1958.0   \n",
       "1  Por apenas R$1994.20,eu consegui comprar esse ...               1996.0   \n",
       "2  SUPERA EM AGILIDADE E PRATICIDADE OUTRAS PANEL...               1984.0   \n",
       "3  MEU FILHO AMOU! PARECE DE VERDADE COM TANTOS D...               1985.0   \n",
       "4  A entrega foi no prazo, as americanas estão de...               1994.0   \n",
       "\n",
       "  reviewer_gender reviewer_state  \n",
       "0               F             RJ  \n",
       "1               M             SC  \n",
       "2               M             SP  \n",
       "3               F             SP  \n",
       "4               M             MG  "
      ]
     },
     "execution_count": 3,
     "metadata": {},
     "output_type": "execute_result"
    }
   ],
   "source": [
    "df.head()"
   ]
  },
  {
   "cell_type": "markdown",
   "metadata": {
    "id": "qt_3GKC-SwTB"
   },
   "source": [
    "We will only use two columns, the review text and the rating that the user give to the product"
   ]
  },
  {
   "cell_type": "code",
   "execution_count": 4,
   "metadata": {
    "colab": {
     "base_uri": "https://localhost:8080/",
     "height": 206
    },
    "id": "aKpdRzJUb9bD",
    "outputId": "719f9ce2-5c60-4219-d6c9-13006f383dc9"
   },
   "outputs": [
    {
     "data": {
      "text/html": [
       "<div>\n",
       "<style scoped>\n",
       "    .dataframe tbody tr th:only-of-type {\n",
       "        vertical-align: middle;\n",
       "    }\n",
       "\n",
       "    .dataframe tbody tr th {\n",
       "        vertical-align: top;\n",
       "    }\n",
       "\n",
       "    .dataframe thead th {\n",
       "        text-align: right;\n",
       "    }\n",
       "</style>\n",
       "<table border=\"1\" class=\"dataframe\">\n",
       "  <thead>\n",
       "    <tr style=\"text-align: right;\">\n",
       "      <th></th>\n",
       "      <th>review_text</th>\n",
       "      <th>overall_rating</th>\n",
       "    </tr>\n",
       "  </thead>\n",
       "  <tbody>\n",
       "    <tr>\n",
       "      <th>0</th>\n",
       "      <td>Estou contente com a compra entrega rápida o ú...</td>\n",
       "      <td>4</td>\n",
       "    </tr>\n",
       "    <tr>\n",
       "      <th>1</th>\n",
       "      <td>Por apenas R$1994.20,eu consegui comprar esse ...</td>\n",
       "      <td>4</td>\n",
       "    </tr>\n",
       "    <tr>\n",
       "      <th>2</th>\n",
       "      <td>SUPERA EM AGILIDADE E PRATICIDADE OUTRAS PANEL...</td>\n",
       "      <td>4</td>\n",
       "    </tr>\n",
       "    <tr>\n",
       "      <th>3</th>\n",
       "      <td>MEU FILHO AMOU! PARECE DE VERDADE COM TANTOS D...</td>\n",
       "      <td>4</td>\n",
       "    </tr>\n",
       "    <tr>\n",
       "      <th>4</th>\n",
       "      <td>A entrega foi no prazo, as americanas estão de...</td>\n",
       "      <td>5</td>\n",
       "    </tr>\n",
       "  </tbody>\n",
       "</table>\n",
       "</div>"
      ],
      "text/plain": [
       "                                         review_text  overall_rating\n",
       "0  Estou contente com a compra entrega rápida o ú...               4\n",
       "1  Por apenas R$1994.20,eu consegui comprar esse ...               4\n",
       "2  SUPERA EM AGILIDADE E PRATICIDADE OUTRAS PANEL...               4\n",
       "3  MEU FILHO AMOU! PARECE DE VERDADE COM TANTOS D...               4\n",
       "4  A entrega foi no prazo, as americanas estão de...               5"
      ]
     },
     "execution_count": 4,
     "metadata": {},
     "output_type": "execute_result"
    }
   ],
   "source": [
    "df[['review_text','overall_rating']].head()"
   ]
  },
  {
   "cell_type": "code",
   "execution_count": 5,
   "metadata": {
    "id": "PAQQ4ohidtQM"
   },
   "outputs": [],
   "source": [
    "df = df[['review_text','overall_rating']]"
   ]
  },
  {
   "cell_type": "markdown",
   "metadata": {
    "id": "0P0WyfbjTLGH"
   },
   "source": [
    "Reviews distribution"
   ]
  },
  {
   "cell_type": "code",
   "execution_count": 6,
   "metadata": {
    "colab": {
     "base_uri": "https://localhost:8080/"
    },
    "id": "tZeKhcn9a1CA",
    "outputId": "c6392038-f897-445b-fb52-a9fc69d52e83"
   },
   "outputs": [
    {
     "data": {
      "text/plain": [
       "5    47955\n",
       "4    32345\n",
       "1    27369\n",
       "3    16315\n",
       "2     8389\n",
       "Name: overall_rating, dtype: int64"
      ]
     },
     "execution_count": 6,
     "metadata": {},
     "output_type": "execute_result"
    }
   ],
   "source": [
    "df.overall_rating.value_counts()"
   ]
  },
  {
   "cell_type": "markdown",
   "metadata": {
    "id": "LKhKW1OfT0X5"
   },
   "source": [
    "My strategy here is to build a binary classifier using the reviews with 5 and 4  four stars as positive sentiment and 1 and 2 stars as negative sentiment. I'll not use the reviews with 3 stars ratings to predict the neutral class, as sometimes user may give a posititve ou negative review and rate 3 stars. I'll use the probability that the model will give to the text to belong to positive or negative class as a treshold to belong to the neutral sentiment class. When the model is unsure about the positive or negative class , the model will predict as a neutral class. This is used to reduce the model complexity as it behaves as a binary classifier\n"
   ]
  },
  {
   "cell_type": "code",
   "execution_count": null,
   "metadata": {
    "id": "vRFV-xtHefjk"
   },
   "outputs": [],
   "source": []
  },
  {
   "cell_type": "code",
   "execution_count": 7,
   "metadata": {
    "id": "1izVUoKMa0_g"
   },
   "outputs": [],
   "source": [
    "df['overall_rating'].replace([1,2], 0, inplace=True)\n",
    "df['overall_rating'].replace([4,5], 1,inplace=True)"
   ]
  },
  {
   "cell_type": "code",
   "execution_count": 8,
   "metadata": {
    "colab": {
     "base_uri": "https://localhost:8080/"
    },
    "id": "1f-51KIfa085",
    "outputId": "4d4a6ea2-2c69-4ca3-93ab-126edc93eaf4"
   },
   "outputs": [
    {
     "data": {
      "text/plain": [
       "1    80300\n",
       "0    35758\n",
       "3    16315\n",
       "Name: overall_rating, dtype: int64"
      ]
     },
     "execution_count": 8,
     "metadata": {},
     "output_type": "execute_result"
    }
   ],
   "source": [
    "df.overall_rating.value_counts()"
   ]
  },
  {
   "cell_type": "markdown",
   "metadata": {
    "id": "FPWj6BpWWBoB"
   },
   "source": [
    "Because the classes are unbalanced , I use the undersample strategy \n",
    "\n"
   ]
  },
  {
   "cell_type": "code",
   "execution_count": 9,
   "metadata": {
    "id": "fl5XRACUa06b"
   },
   "outputs": [],
   "source": [
    "df_reviews_positive = df[df['overall_rating'] == 1].sample(n=35758,random_state=42)\n",
    "df_reviews_negative = df[df['overall_rating'] == 0]"
   ]
  },
  {
   "cell_type": "code",
   "execution_count": 10,
   "metadata": {
    "id": "tpr02spba04Q"
   },
   "outputs": [],
   "source": [
    "df = pd.concat([df_reviews_positive,df_reviews_negative], ignore_index=True)"
   ]
  },
  {
   "cell_type": "code",
   "execution_count": 11,
   "metadata": {
    "id": "LpBewDmua01o"
   },
   "outputs": [],
   "source": [
    "df.rename(columns={'review_text':'text','overall_rating':'labels'},inplace=True)"
   ]
  },
  {
   "cell_type": "code",
   "execution_count": 12,
   "metadata": {
    "colab": {
     "base_uri": "https://localhost:8080/",
     "height": 424
    },
    "id": "QXKiCAFta0zS",
    "outputId": "f372eead-ed34-4667-ceaa-15c48b7c5449"
   },
   "outputs": [
    {
     "data": {
      "text/html": [
       "<div>\n",
       "<style scoped>\n",
       "    .dataframe tbody tr th:only-of-type {\n",
       "        vertical-align: middle;\n",
       "    }\n",
       "\n",
       "    .dataframe tbody tr th {\n",
       "        vertical-align: top;\n",
       "    }\n",
       "\n",
       "    .dataframe thead th {\n",
       "        text-align: right;\n",
       "    }\n",
       "</style>\n",
       "<table border=\"1\" class=\"dataframe\">\n",
       "  <thead>\n",
       "    <tr style=\"text-align: right;\">\n",
       "      <th></th>\n",
       "      <th>text</th>\n",
       "      <th>labels</th>\n",
       "    </tr>\n",
       "  </thead>\n",
       "  <tbody>\n",
       "    <tr>\n",
       "      <th>0</th>\n",
       "      <td>O prazo de entrega foi lindo de ver! E o produ...</td>\n",
       "      <td>1</td>\n",
       "    </tr>\n",
       "    <tr>\n",
       "      <th>1</th>\n",
       "      <td>Ótimo custo beneficio Som de boa qualidade,o c...</td>\n",
       "      <td>1</td>\n",
       "    </tr>\n",
       "    <tr>\n",
       "      <th>2</th>\n",
       "      <td>.................................................</td>\n",
       "      <td>1</td>\n",
       "    </tr>\n",
       "    <tr>\n",
       "      <th>3</th>\n",
       "      <td>É um tecido muito bonito, minha sala ficou lin...</td>\n",
       "      <td>1</td>\n",
       "    </tr>\n",
       "    <tr>\n",
       "      <th>4</th>\n",
       "      <td>Produto atendeu as expectativas . Recomendo a ...</td>\n",
       "      <td>1</td>\n",
       "    </tr>\n",
       "    <tr>\n",
       "      <th>...</th>\n",
       "      <td>...</td>\n",
       "      <td>...</td>\n",
       "    </tr>\n",
       "    <tr>\n",
       "      <th>71511</th>\n",
       "      <td>O produto não tem uma trava para a tampa, quan...</td>\n",
       "      <td>0</td>\n",
       "    </tr>\n",
       "    <tr>\n",
       "      <th>71512</th>\n",
       "      <td>O travesseiro quando colocamos a cabeça, ele f...</td>\n",
       "      <td>0</td>\n",
       "    </tr>\n",
       "    <tr>\n",
       "      <th>71513</th>\n",
       "      <td>Infelizmente o Netflix não funciona e esse era...</td>\n",
       "      <td>0</td>\n",
       "    </tr>\n",
       "    <tr>\n",
       "      <th>71514</th>\n",
       "      <td>Material fraco, poderia ser melhor. Ficou deve...</td>\n",
       "      <td>0</td>\n",
       "    </tr>\n",
       "    <tr>\n",
       "      <th>71515</th>\n",
       "      <td>Comprei esse produto, quando chegou estava com...</td>\n",
       "      <td>0</td>\n",
       "    </tr>\n",
       "  </tbody>\n",
       "</table>\n",
       "<p>71516 rows × 2 columns</p>\n",
       "</div>"
      ],
      "text/plain": [
       "                                                    text  labels\n",
       "0      O prazo de entrega foi lindo de ver! E o produ...       1\n",
       "1      Ótimo custo beneficio Som de boa qualidade,o c...       1\n",
       "2      .................................................       1\n",
       "3      É um tecido muito bonito, minha sala ficou lin...       1\n",
       "4      Produto atendeu as expectativas . Recomendo a ...       1\n",
       "...                                                  ...     ...\n",
       "71511  O produto não tem uma trava para a tampa, quan...       0\n",
       "71512  O travesseiro quando colocamos a cabeça, ele f...       0\n",
       "71513  Infelizmente o Netflix não funciona e esse era...       0\n",
       "71514  Material fraco, poderia ser melhor. Ficou deve...       0\n",
       "71515  Comprei esse produto, quando chegou estava com...       0\n",
       "\n",
       "[71516 rows x 2 columns]"
      ]
     },
     "execution_count": 12,
     "metadata": {},
     "output_type": "execute_result"
    }
   ],
   "source": [
    "df"
   ]
  },
  {
   "cell_type": "markdown",
   "metadata": {
    "id": "G_s3c2XnWX99"
   },
   "source": [
    "Steps to cleaning text:\n",
    "\n",
    "\n",
    "1.   Removing digits\n",
    "2.   Removing stop words\n",
    "3.   lowering the text\n",
    "4.   Removing especial caracters and word accents\n",
    "\n",
    "\n"
   ]
  },
  {
   "cell_type": "code",
   "execution_count": 13,
   "metadata": {
    "colab": {
     "base_uri": "https://localhost:8080/"
    },
    "id": "L-e_wgWwid1P",
    "outputId": "3c6913cb-002c-4b01-e04d-cda5ab08c5a2"
   },
   "outputs": [
    {
     "name": "stderr",
     "output_type": "stream",
     "text": [
      "C:\\Users\\DOUGLA~1.MEL\\AppData\\Local\\Temp/ipykernel_4700/1761538482.py:1: FutureWarning: The default value of regex will change from True to False in a future version.\n",
      "  df['text'] = df['text'].str.replace('\\d+', '').astype(str)\n"
     ]
    }
   ],
   "source": [
    "df['text'] = df['text'].str.replace('\\d+', '').astype(str)"
   ]
  },
  {
   "cell_type": "code",
   "execution_count": 14,
   "metadata": {
    "id": "ix478Stefn_b"
   },
   "outputs": [],
   "source": [
    "stop_words = set(stopwords.words('portuguese'))\n",
    "stop_words.remove('não')"
   ]
  },
  {
   "cell_type": "code",
   "execution_count": 15,
   "metadata": {
    "id": "WbjUwgydgWHA"
   },
   "outputs": [],
   "source": [
    "def pre_processor(text):\n",
    "  text = text.lower()\n",
    "  tokenized = word_tokenize(text)\n",
    "  filtered_sentence = [unidecode.unidecode(word) for word in tokenized if word not in stop_words ]\n",
    "  return ' '.join(c for c in filtered_sentence if c.isalpha())"
   ]
  },
  {
   "cell_type": "code",
   "execution_count": 16,
   "metadata": {
    "id": "-pj1J6FyhoEq"
   },
   "outputs": [],
   "source": [
    "df.text = df.text.apply(pre_processor)"
   ]
  },
  {
   "cell_type": "markdown",
   "metadata": {
    "id": "aaYnNrkaXGkj"
   },
   "source": [
    "Split the data on traning and test"
   ]
  },
  {
   "cell_type": "code",
   "execution_count": 17,
   "metadata": {
    "id": "k5ZL3fHuhQY0"
   },
   "outputs": [],
   "source": [
    "train, test = train_test_split(df, test_size = 0.3, stratify = df['labels'], random_state = 42)"
   ]
  },
  {
   "cell_type": "markdown",
   "metadata": {
    "id": "hkHOZ_P3XdDn"
   },
   "source": [
    "Using Tf-Idf vectorizer to transform raw text into a meaningful representation of numbers"
   ]
  },
  {
   "cell_type": "code",
   "execution_count": 18,
   "metadata": {
    "id": "fJig6MOqktaq"
   },
   "outputs": [],
   "source": [
    "tf = TfidfVectorizer(max_features=1000, preprocessor= pre_processor, ngram_range = (1,2))\n",
    "tf.fit(train['text'].values)\n",
    "X_train=tf.transform(train['text'].values)\n",
    "X_test=tf.transform(test['text'].values)"
   ]
  },
  {
   "cell_type": "code",
   "execution_count": 19,
   "metadata": {
    "id": "HzRJZYByk3oP"
   },
   "outputs": [],
   "source": [
    "y_train = train['labels'].values\n",
    "y_test = test['labels'].values"
   ]
  },
  {
   "cell_type": "markdown",
   "metadata": {
    "id": "7ZvVRsHEX4YJ"
   },
   "source": [
    "Testing some classifiers . I'll chose the best for hyperparameter tuning ."
   ]
  },
  {
   "cell_type": "code",
   "execution_count": 20,
   "metadata": {
    "id": "WoDQiuzUmNHS"
   },
   "outputs": [],
   "source": [
    "# Classifiers \n",
    "from sklearn.svm import LinearSVC\n",
    "from sklearn.linear_model import RidgeClassifier\n",
    "from sklearn.neighbors import KNeighborsClassifier\n",
    "from sklearn.linear_model import SGDClassifier\n",
    "from sklearn.metrics import f1_score, accuracy_score\n",
    "\n",
    "\n",
    "svm = LinearSVC(tol=1e-05, max_iter=1500)\n",
    "ridge = RidgeClassifier(alpha=0.8, tol=1e-05)\n",
    "knn = KNeighborsClassifier(n_neighbors=3, n_jobs=-1)\n",
    "sgd  = SGDClassifier(loss='hinge')\n",
    "lr = LogisticRegression(solver = 'liblinear', random_state = 42)"
   ]
  },
  {
   "cell_type": "code",
   "execution_count": 21,
   "metadata": {
    "colab": {
     "base_uri": "https://localhost:8080/"
    },
    "id": "LGCsaq9lmdHt",
    "outputId": "fd730898-fcd1-47c2-8429-f3d034dd1bd3"
   },
   "outputs": [
    {
     "name": "stdout",
     "output_type": "stream",
     "text": [
      "Accuracy:  0.9309\n",
      "F1:  0.9298\n"
     ]
    }
   ],
   "source": [
    "svm.fit(X_train,y_train)\n",
    "y_pred = svm.predict(X_test)\n",
    "print(\"Accuracy: \",round(metrics.accuracy_score(y_test,y_pred),4))\n",
    "print(\"F1: \",round(metrics.f1_score(y_test, y_pred),4))"
   ]
  },
  {
   "cell_type": "code",
   "execution_count": 22,
   "metadata": {
    "colab": {
     "base_uri": "https://localhost:8080/"
    },
    "id": "tQB6EH7nnLE6",
    "outputId": "dff1dc2b-48ad-4e2d-cc0a-0de4fe6d9d3a"
   },
   "outputs": [
    {
     "name": "stdout",
     "output_type": "stream",
     "text": [
      "Accuracy:  0.9308\n",
      "F1:  0.9296\n"
     ]
    }
   ],
   "source": [
    "lr.fit(X_train,y_train)\n",
    "y_pred = lr.predict(X_test)\n",
    "print(\"Accuracy: \",round(metrics.accuracy_score(y_test,y_pred),4))\n",
    "print(\"F1: \",round(metrics.f1_score(y_test, y_pred),4))"
   ]
  },
  {
   "cell_type": "code",
   "execution_count": 23,
   "metadata": {
    "colab": {
     "base_uri": "https://localhost:8080/"
    },
    "id": "lnixkNvRplyC",
    "outputId": "a7f8f8cd-6a79-45a0-fd84-8757635614b1"
   },
   "outputs": [
    {
     "name": "stdout",
     "output_type": "stream",
     "text": [
      "Accuracy:  0.9264\n",
      "F1:  0.9249\n"
     ]
    }
   ],
   "source": [
    "ridge.fit(X_train,y_train)\n",
    "y_pred = ridge.predict(X_test)\n",
    "print(\"Accuracy: \",round(metrics.accuracy_score(y_test,y_pred),4))\n",
    "print(\"F1: \",round(metrics.f1_score(y_test, y_pred),4))"
   ]
  },
  {
   "cell_type": "code",
   "execution_count": 24,
   "metadata": {
    "colab": {
     "base_uri": "https://localhost:8080/"
    },
    "id": "q6av5T5Aplun",
    "outputId": "e6838408-d644-4324-ca01-efd3d2621ea5"
   },
   "outputs": [
    {
     "name": "stdout",
     "output_type": "stream",
     "text": [
      "Accuracy:  0.8357\n",
      "F1:  0.8174\n"
     ]
    }
   ],
   "source": [
    "knn.fit(X_train,y_train)\n",
    "y_pred = knn.predict(X_test)\n",
    "print(\"Accuracy: \",round(metrics.accuracy_score(y_test,y_pred),4))\n",
    "print(\"F1: \",round(metrics.f1_score(y_test, y_pred),4))"
   ]
  },
  {
   "cell_type": "markdown",
   "metadata": {
    "id": "rjb6qW4oYLtl"
   },
   "source": [
    "Tuning the parameters of Logistic Regression with Grid Search to find the best model"
   ]
  },
  {
   "cell_type": "code",
   "execution_count": 25,
   "metadata": {
    "id": "aDhe1fovoiQS"
   },
   "outputs": [],
   "source": [
    "lr = LogisticRegression(solver = 'liblinear', random_state = 42)\n",
    "#lr.fit(X_train,y_train)\n",
    "#y_pred = lr.predict(X_test)"
   ]
  },
  {
   "cell_type": "code",
   "execution_count": 26,
   "metadata": {
    "colab": {
     "base_uri": "https://localhost:8080/"
    },
    "id": "S4kvHU7vop1F",
    "outputId": "f72104eb-bfb1-4d42-d22b-54004e7da170"
   },
   "outputs": [
    {
     "name": "stdout",
     "output_type": "stream",
     "text": [
      "Fitting 5 folds for each of 6 candidates, totalling 30 fits\n"
     ]
    },
    {
     "data": {
      "text/plain": [
       "GridSearchCV(cv=5,\n",
       "             estimator=Pipeline(steps=[('clf',\n",
       "                                        LogisticRegression(random_state=42,\n",
       "                                                           solver='liblinear'))]),\n",
       "             n_jobs=-1,\n",
       "             param_grid=[{'clf__C': [1.0, 10.0, 100.0],\n",
       "                          'clf__penalty': ['l1', 'l2']}],\n",
       "             scoring='accuracy', verbose=1)"
      ]
     },
     "execution_count": 26,
     "metadata": {},
     "output_type": "execute_result"
    }
   ],
   "source": [
    "from sklearn.pipeline import Pipeline\n",
    "from sklearn.model_selection import GridSearchCV\n",
    "\n",
    "param_grid = [{\n",
    "               'clf__penalty': ['l1', 'l2'],\n",
    "               'clf__C': [1.0, 10.0, 100.0]}\n",
    "             ]\n",
    "\n",
    "lr_tfidf = Pipeline([\n",
    "                     ('clf', LogisticRegression(solver = 'liblinear', random_state = 42))])\n",
    "\n",
    "gs_lr_tfidf = GridSearchCV(lr_tfidf, param_grid, scoring='accuracy',\n",
    "                           cv=5, verbose=1, n_jobs=-1)\n",
    "gs_lr_tfidf.fit(X_train, y_train)"
   ]
  },
  {
   "cell_type": "code",
   "execution_count": 27,
   "metadata": {
    "colab": {
     "base_uri": "https://localhost:8080/"
    },
    "id": "dg1l2p-ws-hQ",
    "outputId": "e354424e-e6f4-4f89-f3ae-9812f9f22936"
   },
   "outputs": [
    {
     "data": {
      "text/plain": [
       "{'clf__C': 1.0, 'clf__penalty': 'l1'}"
      ]
     },
     "execution_count": 27,
     "metadata": {},
     "output_type": "execute_result"
    }
   ],
   "source": [
    "gs_lr_tfidf.best_params_"
   ]
  },
  {
   "cell_type": "code",
   "execution_count": 28,
   "metadata": {
    "colab": {
     "base_uri": "https://localhost:8080/"
    },
    "id": "QpR2HAidtBBS",
    "outputId": "8d8ce07a-780d-4201-bce1-18808f4236d4"
   },
   "outputs": [
    {
     "data": {
      "text/plain": [
       "0.9304847525623801"
      ]
     },
     "execution_count": 28,
     "metadata": {},
     "output_type": "execute_result"
    }
   ],
   "source": [
    "gs_lr_tfidf.best_score_"
   ]
  },
  {
   "cell_type": "code",
   "execution_count": 29,
   "metadata": {
    "colab": {
     "base_uri": "https://localhost:8080/"
    },
    "id": "hs0kapzrtD4e",
    "outputId": "8dd17d76-98e7-4ed4-a1d5-b583c239ce7a"
   },
   "outputs": [
    {
     "data": {
      "text/plain": [
       "0.9311582381729201"
      ]
     },
     "execution_count": 29,
     "metadata": {},
     "output_type": "execute_result"
    }
   ],
   "source": [
    "clf = gs_lr_tfidf.best_estimator_\n",
    "clf.score(X_test, y_test)"
   ]
  },
  {
   "cell_type": "markdown",
   "metadata": {
    "id": "cDIpgVm5YZqK"
   },
   "source": [
    "Here , I use Stratified Kfold to find the final model accuracy"
   ]
  },
  {
   "cell_type": "code",
   "execution_count": 30,
   "metadata": {
    "colab": {
     "base_uri": "https://localhost:8080/"
    },
    "id": "77-Ol-2gtN7D",
    "outputId": "00f857df-7767-48f0-91d4-914336d83455"
   },
   "outputs": [
    {
     "data": {
      "text/plain": [
       "array([0.93328673, 0.92778666, 0.93397922, 0.92828606, 0.92838594])"
      ]
     },
     "execution_count": 30,
     "metadata": {},
     "output_type": "execute_result"
    }
   ],
   "source": [
    "\n",
    "from sklearn.model_selection import StratifiedKFold\n",
    "from sklearn.model_selection import cross_val_score\n",
    "cv = StratifiedKFold(n_splits=5, shuffle=False)\n",
    "scores = cross_val_score(LogisticRegression(solver = 'liblinear', random_state = 42,C=1,penalty='l2'), X_train, y_train, cv=cv)\n",
    "scores"
   ]
  },
  {
   "cell_type": "code",
   "execution_count": 31,
   "metadata": {
    "colab": {
     "base_uri": "https://localhost:8080/"
    },
    "id": "tkhHYGCCt4FG",
    "outputId": "a0a3fe32-2f1a-486d-fff7-f08279732b87"
   },
   "outputs": [
    {
     "data": {
      "text/plain": [
       "0.9303449203610217"
      ]
     },
     "execution_count": 31,
     "metadata": {},
     "output_type": "execute_result"
    }
   ],
   "source": [
    "scores.mean()"
   ]
  },
  {
   "cell_type": "markdown",
   "metadata": {
    "id": "97qm_5p2ZTDH"
   },
   "source": [
    "Confusion matrix"
   ]
  },
  {
   "cell_type": "code",
   "execution_count": 32,
   "metadata": {
    "colab": {
     "base_uri": "https://localhost:8080/",
     "height": 350
    },
    "id": "KnQWEmV2vveC",
    "outputId": "b7325477-95d7-461c-c601-a918ea68ee2b"
   },
   "outputs": [
    {
     "data": {
      "image/png": "[encoded data removed]",
      "text/plain": [
       "<Figure size 432x288 with 2 Axes>"
      ]
     },
     "metadata": {
      "needs_background": "light"
     },
     "output_type": "display_data"
    }
   ],
   "source": [
    "lr.fit(X_train,y_train)\n",
    "disp = metrics.plot_confusion_matrix(lr, X_test, y_test,\n",
    "                                 display_labels=['Class 0', 'Class 1'],\n",
    "                                 cmap=plt.cm.Blues,\n",
    "                                 normalize='true')\n",
    "disp.ax_.set_title('Confusion matrix for logistic regression');"
   ]
  },
  {
   "cell_type": "markdown",
   "metadata": {
    "id": "GYYFpQDyZWVP"
   },
   "source": [
    "Most important words for positive and negative sentiment"
   ]
  },
  {
   "cell_type": "code",
   "execution_count": 33,
   "metadata": {
    "id": "xr7_A6gnwOdt"
   },
   "outputs": [],
   "source": [
    "feature_importance = lr.coef_[0]\n",
    "sorted_idx = np.argsort(feature_importance)\n",
    "top_10_pos_w = [list(tf.vocabulary_.keys())[list(tf.vocabulary_.values()).index(w)] for w in sorted_idx[range(-1,-11, -1)]]\n",
    "top_10_neg_w = [list(tf.vocabulary_.keys())[list(tf.vocabulary_.values()).index(w)] for w in sorted_idx[:10]]"
   ]
  },
  {
   "cell_type": "code",
   "execution_count": 34,
   "metadata": {
    "colab": {
     "base_uri": "https://localhost:8080/",
     "height": 554
    },
    "id": "BBIP6pgpwHIQ",
    "outputId": "38a195e9-6130-42b5-9c89-ebf966bf0813"
   },
   "outputs": [
    {
     "name": "stderr",
     "output_type": "stream",
     "text": [
      "c:\\users\\douglas.melo\\appdata\\local\\programs\\python\\python38\\lib\\site-packages\\seaborn\\_decorators.py:36: FutureWarning: Pass the following variables as keyword args: x, y. From version 0.12, the only valid positional argument will be `data`, and passing other arguments without an explicit keyword will result in an error or misinterpretation.\n",
      "  warnings.warn(\n"
     ]
    },
    {
     "data": {
      "image/png": "[encoded data removed]",
      "text/plain": [
       "<Figure size 720x432 with 1 Axes>"
      ]
     },
     "metadata": {
      "needs_background": "light"
     },
     "output_type": "display_data"
    }
   ],
   "source": [
    "fig = plt.figure(figsize=(10, 6))\n",
    "ax = sns.barplot(top_10_pos_w, feature_importance[sorted_idx[range(-1,-11, -1)]])\n",
    "plt.title(\"Most important words for positive sentiment\",fontsize = 20)\n",
    "x_locs,x_labels = plt.xticks()\n",
    "plt.setp(x_labels, rotation = 40)\n",
    "plt.xticks(fontsize=17, rotation=90\n",
    "          )\n",
    "plt.ylabel('Relevancy', fontsize = 16)\n",
    "plt.xlabel('Word', fontsize = 16);"
   ]
  },
  {
   "cell_type": "code",
   "execution_count": 35,
   "metadata": {
    "colab": {
     "base_uri": "https://localhost:8080/",
     "height": 591
    },
    "id": "VZyohIKMwHEu",
    "outputId": "54e63d57-b980-4d85-b424-17bb0436f96a"
   },
   "outputs": [
    {
     "name": "stderr",
     "output_type": "stream",
     "text": [
      "c:\\users\\douglas.melo\\appdata\\local\\programs\\python\\python38\\lib\\site-packages\\seaborn\\_decorators.py:36: FutureWarning: Pass the following variables as keyword args: x, y. From version 0.12, the only valid positional argument will be `data`, and passing other arguments without an explicit keyword will result in an error or misinterpretation.\n",
      "  warnings.warn(\n"
     ]
    },
    {
     "data": {
      "image/png": "[encoded data removed]",
      "text/plain": [
       "<Figure size 720x432 with 1 Axes>"
      ]
     },
     "metadata": {
      "needs_background": "light"
     },
     "output_type": "display_data"
    }
   ],
   "source": [
    "fig = plt.figure(figsize=(10, 6))\n",
    "ax = sns.barplot(top_10_neg_w, feature_importance[sorted_idx[:10]])\n",
    "plt.title(\"Most important words for negative sentiment\",fontsize = 20)\n",
    "x_locs,x_labels = plt.xticks()\n",
    "plt.setp(x_labels, rotation = 40)\n",
    "plt.xticks(fontsize=17, rotation=90)\n",
    "plt.ylabel('Relevancy', fontsize = 16)\n",
    "plt.xlabel('Word', fontsize = 16);"
   ]
  },
  {
   "cell_type": "markdown",
   "metadata": {
    "id": "ANvvoEJWZael"
   },
   "source": [
    "Testing some comments as example"
   ]
  },
  {
   "cell_type": "code",
   "execution_count": 36,
   "metadata": {
    "colab": {
     "base_uri": "https://localhost:8080/"
    },
    "id": "ZzygPDkFwHCq",
    "outputId": "096df4bf-ba39-49cb-f13f-722351ff6481"
   },
   "outputs": [
    {
     "data": {
      "text/plain": [
       "array([[0.0923626, 0.9076374]])"
      ]
     },
     "execution_count": 36,
     "metadata": {},
     "output_type": "execute_result"
    }
   ],
   "source": [
    "test_review = tf.transform([pre_processor(\"\"\"Produto de boa qualidade e  veio dentro do prazo estipulado\"\"\")])\n",
    "lr.predict_proba(test_review)"
   ]
  },
  {
   "cell_type": "code",
   "execution_count": 37,
   "metadata": {
    "colab": {
     "base_uri": "https://localhost:8080/"
    },
    "id": "t0iZCIbhxvlq",
    "outputId": "ff261e44-12ec-49c3-c624-950e6e1e8783"
   },
   "outputs": [
    {
     "data": {
      "text/plain": [
       "array([[0.20443312, 0.79556688]])"
      ]
     },
     "execution_count": 37,
     "metadata": {},
     "output_type": "execute_result"
    }
   ],
   "source": [
    "test_review = tf.transform([pre_processor(\"\"\"Apesar da demora na entrega, estou satisfeito com o produto\"\"\")])\n",
    "lr.predict_proba(test_review)"
   ]
  },
  {
   "cell_type": "code",
   "execution_count": 38,
   "metadata": {
    "colab": {
     "base_uri": "https://localhost:8080/"
    },
    "id": "LgP7Mxekx5B7",
    "outputId": "f3d1e91f-2c89-49ba-a300-13a8011da4dd"
   },
   "outputs": [
    {
     "data": {
      "text/plain": [
       "array([[0.94122207, 0.05877793]])"
      ]
     },
     "execution_count": 38,
     "metadata": {},
     "output_type": "execute_result"
    }
   ],
   "source": [
    "test_review = tf.transform([pre_processor(\"\"\"Não gostei\"\"\")])\n",
    "lr.predict_proba(test_review)"
   ]
  },
  {
   "cell_type": "code",
   "execution_count": 39,
   "metadata": {
    "colab": {
     "base_uri": "https://localhost:8080/"
    },
    "id": "gyaOOBfbzQJI",
    "outputId": "19075c13-63e6-4b0a-9383-6ae5cd861151"
   },
   "outputs": [
    {
     "data": {
      "text/plain": [
       "array([[0.41333996, 0.58666004]])"
      ]
     },
     "execution_count": 39,
     "metadata": {},
     "output_type": "execute_result"
    }
   ],
   "source": [
    "test_review = tf.transform([pre_processor(\"\"\"Estou com dúvida sobre o produto , qual é o email do atendimento?\"\"\")])\n",
    "lr.predict_proba(test_review)"
   ]
  },
  {
   "cell_type": "markdown",
   "metadata": {
    "id": "hkY6L08TZfY5"
   },
   "source": [
    "Function to return the sentiment based on the treshold of 60%."
   ]
  },
  {
   "cell_type": "code",
   "execution_count": 40,
   "metadata": {
    "id": "Zkf8_B720SN2"
   },
   "outputs": [],
   "source": [
    "def Sentiment_classified(prob):\n",
    "    if prob >= 0.60:\n",
    "        return 'Negative'\n",
    "    elif prob <= 0.30:\n",
    "        return 'Positive'\n",
    "    else:\n",
    "        return 'Neutral'"
   ]
  },
  {
   "cell_type": "code",
   "execution_count": 41,
   "metadata": {
    "colab": {
     "base_uri": "https://localhost:8080/",
     "height": 35
    },
    "id": "S8vDGhRi0YmQ",
    "outputId": "eddced7a-f116-413d-da72-a187c9ca1622"
   },
   "outputs": [
    {
     "data": {
      "text/plain": [
       "'Positive'"
      ]
     },
     "execution_count": 41,
     "metadata": {},
     "output_type": "execute_result"
    }
   ],
   "source": [
    "test_review = tf.transform([pre_processor(\"\"\"Produto de boa qualidade e  veio dentro do prazo estipulado\"\"\")])\n",
    "Sentiment_classified(lr.predict_proba(test_review)[0][0])"
   ]
  },
  {
   "cell_type": "code",
   "execution_count": 42,
   "metadata": {},
   "outputs": [],
   "source": [
    "X_train=train['text'].values\n",
    "y_train = train['labels'].values"
   ]
  },
  {
   "cell_type": "code",
   "execution_count": 43,
   "metadata": {},
   "outputs": [],
   "source": [
    "model = Pipeline([('tf',TfidfVectorizer(max_features=1000, preprocessor= pre_processor, ngram_range = (1,2))),\n",
    "                     ('clf', LogisticRegression(solver = 'liblinear', random_state = 42,C=1,penalty='l2'))])"
   ]
  },
  {
   "cell_type": "code",
   "execution_count": 44,
   "metadata": {},
   "outputs": [
    {
     "data": {
      "text/plain": [
       "Pipeline(steps=[('tf',\n",
       "                 TfidfVectorizer(max_features=1000, ngram_range=(1, 2),\n",
       "                                 preprocessor=<function pre_processor at 0x0000021A2FD0A820>)),\n",
       "                ('clf',\n",
       "                 LogisticRegression(C=1, random_state=42, solver='liblinear'))])"
      ]
     },
     "execution_count": 44,
     "metadata": {},
     "output_type": "execute_result"
    }
   ],
   "source": [
    "model.fit(X_train,y_train)"
   ]
  },
  {
   "cell_type": "code",
   "execution_count": 45,
   "metadata": {},
   "outputs": [
    {
     "name": "stdout",
     "output_type": "stream",
     "text": [
      "Model saved: Model(tag=\"sentiment_analysis:yotvyb25dcsguxgn\")\n"
     ]
    }
   ],
   "source": [
    "model_saved=bentoml.sklearn.save_model(\"sentiment_analysis\",model)\n",
    "print(f\"Model saved: {model_saved}\")"
   ]
  },
  {
   "cell_type": "code",
   "execution_count": 46,
   "metadata": {},
   "outputs": [],
   "source": [
    "loaded = bentoml.sklearn.load_model(\"sentiment_analysis:latest\")"
   ]
  },
  {
   "cell_type": "code",
   "execution_count": 76,
   "metadata": {},
   "outputs": [
    {
     "data": {
      "text/plain": [
       "array([[0.09236259, 0.90763741]])"
      ]
     },
     "execution_count": 76,
     "metadata": {},
     "output_type": "execute_result"
    }
   ],
   "source": [
    "loaded[1].predict_proba(loaded[0]\\\n",
    "                        .transform([\"\"\"Produto de boa qualidade e  veio dentro do prazo estipulado\"\"\"]))"
   ]
  },
  {
   "cell_type": "code",
   "execution_count": 48,
   "metadata": {},
   "outputs": [
    {
     "data": {
      "text/plain": [
       "'Positive'"
      ]
     },
     "execution_count": 48,
     "metadata": {},
     "output_type": "execute_result"
    }
   ],
   "source": [
    "test_review = tf.transform([pre_processor(\"\"\"Produto de boa qualidade e  veio dentro do prazo estipulado\"\"\")])\n",
    "Sentiment_classified(lr.predict_proba(test_review)[0][0])"
   ]
  },
  {
   "cell_type": "code",
   "execution_count": null,
   "metadata": {},
   "outputs": [],
   "source": []
  },
  {
   "cell_type": "code",
   "execution_count": 1,
   "metadata": {},
   "outputs": [],
   "source": [
    "import nltk "
   ]
  },
  {
   "cell_type": "code",
   "execution_count": 2,
   "metadata": {},
   "outputs": [
    {
     "name": "stderr",
     "output_type": "stream",
     "text": [
      "[nltk_data] Downloading package punkt to\n",
      "[nltk_data]     C:\\Users\\douglas.melo\\AppData\\Roaming\\nltk_data...\n",
      "[nltk_data]   Package punkt is already up-to-date!\n"
     ]
    }
   ],
   "source": [
    "a = nltk.download('punkt')"
   ]
  },
  {
   "cell_type": "code",
   "execution_count": 3,
   "metadata": {},
   "outputs": [
    {
     "data": {
      "text/plain": [
       "True"
      ]
     },
     "execution_count": 3,
     "metadata": {},
     "output_type": "execute_result"
    }
   ],
   "source": []
  }
 ],
 "metadata": {
  "colab": {
   "collapsed_sections": [],
   "provenance": []
  },
  "kernelspec": {
   "display_name": "Python 3 (ipykernel)",
   "language": "python",
   "name": "python3"
  },
  "language_info": {
   "codemirror_mode": {
    "name": "ipython",
    "version": 3
   },
   "file_extension": ".py",
   "mimetype": "text/x-python",
   "name": "python",
   "nbconvert_exporter": "python",
   "pygments_lexer": "ipython3",
   "version": "3.8.10"
  }
 },
 "nbformat": 4,
 "nbformat_minor": 1
}
